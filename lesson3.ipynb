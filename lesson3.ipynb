{
 "cells": [
  {
   "cell_type": "code",
   "execution_count": 1,
   "metadata": {},
   "outputs": [
    {
     "name": "stdout",
     "output_type": "stream",
     "text": [
      "Hello World\n"
     ]
    }
   ],
   "source": [
    "print(\"Hello World\")"
   ]
  },
  {
   "cell_type": "code",
   "execution_count": 2,
   "metadata": {},
   "outputs": [
    {
     "data": {
      "text/plain": [
       "False"
      ]
     },
     "execution_count": 2,
     "metadata": {},
     "output_type": "execute_result"
    }
   ],
   "source": [
    "x = 7\n",
    "x == 5 #比較運算子"
   ]
  },
  {
   "cell_type": "code",
   "execution_count": 3,
   "metadata": {},
   "outputs": [
    {
     "data": {
      "text/plain": [
       "True"
      ]
     },
     "execution_count": 3,
     "metadata": {},
     "output_type": "execute_result"
    }
   ],
   "source": [
    "x == 7 #比較運鑽子"
   ]
  },
  {
   "cell_type": "code",
   "execution_count": 1,
   "metadata": {},
   "outputs": [
    {
     "name": "stdout",
     "output_type": "stream",
     "text": [
      "國文分數是65\n",
      "及格\n",
      "程式結束\n"
     ]
    }
   ],
   "source": [
    "chinese_str = input(\"請輸入國文分數：\")\n",
    "chinese_int = int(chinese_str)\n",
    "if chinese_int >= 60 :\n",
    "    print(f\"國文分數是{chinese_str}\")\n",
    "    print(\"及格\")\n",
    "else :\n",
    "    print(\"沒有複習\")\n",
    "    print(\"不及格\")\n",
    "print(\"程式結束\")"
   ]
  },
  {
   "cell_type": "code",
   "execution_count": 7,
   "metadata": {},
   "outputs": [
    {
     "name": "stdout",
     "output_type": "stream",
     "text": [
      "乙\n"
     ]
    }
   ],
   "source": [
    "#多項選擇\n",
    "'''\n",
    "90-100 為優\n",
    "80-89 為甲\n",
    "70-79 為乙\n",
    "60-69 為丙\n",
    "0-59 為丁\n",
    "'''\n",
    "chinese = int(input(\"請輸入國文分數:\"))\n",
    "if chinese >= 90 :\n",
    "    print(\"優\")\n",
    "elif chinese >= 80 :\n",
    "    print(\"甲\")\n",
    "elif chinese >= 70 :\n",
    "    print(\"乙\")\n",
    "elif chinese >= 60 :\n",
    "    print(\"丙\")\n",
    "else :\n",
    "    print(\"丁\")"
   ]
  },
  {
   "cell_type": "code",
   "execution_count": 12,
   "metadata": {},
   "outputs": [
    {
     "name": "stdout",
     "output_type": "stream",
     "text": [
      "實付金額是:104000.0元\n"
     ]
    }
   ],
   "source": [
    "#作業\n",
    "\n",
    "check = int(input(\"請輸入顧客購買金額\"))\n",
    "if check >= 100000 :\n",
    "    print(f\"實付金額是:{check*0.8}元\")\n",
    "elif check >= 50000 :\n",
    "    print(f\"實付金額是:{check*0.85}元\")\n",
    "elif check >= 30000 :\n",
    "    print(f\"實付金額是:{check*0.9}元\")\n",
    "else :\n",
    "    print(f\"實付金額是:{check*0.95}元\")"
   ]
  }
 ],
 "metadata": {
  "kernelspec": {
   "display_name": "Python 3",
   "language": "python",
   "name": "python3"
  },
  "language_info": {
   "codemirror_mode": {
    "name": "ipython",
    "version": 3
   },
   "file_extension": ".py",
   "mimetype": "text/x-python",
   "name": "python",
   "nbconvert_exporter": "python",
   "pygments_lexer": "ipython3",
   "version": "3.10.8"
  },
  "orig_nbformat": 4,
  "vscode": {
   "interpreter": {
    "hash": "2cecb92da02c8b98f4101d22276476b1c28eb527ceb2bbde7375dd542609dce3"
   }
  }
 },
 "nbformat": 4,
 "nbformat_minor": 2
}
