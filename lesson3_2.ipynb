{
 "cells": [
  {
   "cell_type": "code",
   "execution_count": 3,
   "metadata": {},
   "outputs": [
    {
     "name": "stdout",
     "output_type": "stream",
     "text": [
      "獎金為:0\n"
     ]
    }
   ],
   "source": [
    "#邏輯運算子\n",
    "#國文分數 數學分數 都100 獎金1000\n",
    "#國文分數或數學分數 100 獎金500\n",
    "\n",
    "chinese = int(input(\"請輸入國文分數:\"))\n",
    "math = int(input(\"請輸入數學分數:\"))\n",
    "\n",
    "if chinese == 100 and math == 100 :\n",
    "    bonus = 1000\n",
    "elif chinese == 100 or math == 100 :\n",
    "    bonus = 500\n",
    "else :\n",
    "    bonus = 0\n",
    "\n",
    "print(f\"獎金為:{bonus}\")\n"
   ]
  },
  {
   "cell_type": "code",
   "execution_count": 8,
   "metadata": {},
   "outputs": [
    {
     "name": "stdout",
     "output_type": "stream",
     "text": [
      "BMI的值為19.03\n",
      "正常\n"
     ]
    }
   ],
   "source": [
    "#BMI = 體重 / 身高平方\n",
    "height = eval(input(\"請輸入身高:\"))\n",
    "weight = eval(input(\"請輸入體重:\"))\n",
    "\n",
    "bmi = weight / (height / 100 ) ** 2\n",
    "\n",
    "print(f\"BMI的值為{bmi:.2f}\")\n",
    "\n",
    "if bmi < 18.5 :\n",
    "    state = \"體重過輕\"\n",
    "elif bmi < 24:\n",
    "    state = \"正常\"\n",
    "elif bmi < 27:\n",
    "    state = \"過重\"\n",
    "elif bmi < 30:\n",
    "    state = \"輕度肥胖\"\n",
    "elif bmi < 35:\n",
    "    state = \"中度肥胖\"\n",
    "else :\n",
    "    state = \"重度肥胖\"\n",
    "\n",
    "print(state)"
   ]
  }
 ],
 "metadata": {
  "kernelspec": {
   "display_name": "Python 3",
   "language": "python",
   "name": "python3"
  },
  "language_info": {
   "codemirror_mode": {
    "name": "ipython",
    "version": 3
   },
   "file_extension": ".py",
   "mimetype": "text/x-python",
   "name": "python",
   "nbconvert_exporter": "python",
   "pygments_lexer": "ipython3",
   "version": "3.10.8"
  },
  "orig_nbformat": 4,
  "vscode": {
   "interpreter": {
    "hash": "2cecb92da02c8b98f4101d22276476b1c28eb527ceb2bbde7375dd542609dce3"
   }
  }
 },
 "nbformat": 4,
 "nbformat_minor": 2
}
