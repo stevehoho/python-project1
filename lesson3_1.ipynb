{
 "cells": [
  {
   "cell_type": "code",
   "execution_count": 4,
   "metadata": {},
   "outputs": [
    {
     "name": "stdout",
     "output_type": "stream",
     "text": [
      "獎金是:0\n"
     ]
    }
   ],
   "source": [
    "#巢狀運算\n",
    "#國文分數 數學分數 都100 獎金1000\n",
    "#國文分數或數學分數 100 獎金500\n",
    "\n",
    "chinese = int(input(\"請輸入國文分數:\"))\n",
    "math = int(input(\"請輸入數學分數:\"))\n",
    "\n",
    "if chinese == 100 :\n",
    "    if math == 100:\n",
    "        bonus = 1000\n",
    "    else :\n",
    "        bonus = 500\n",
    "else :\n",
    "    if math == 100:\n",
    "        bonus = 500\n",
    "    else :\n",
    "        bonus = 0\n",
    "\n",
    "print(f\"獎金是:{bonus}\")\n"
   ]
  },
  {
   "cell_type": "code",
   "execution_count": 6,
   "metadata": {},
   "outputs": [
    {
     "name": "stdout",
     "output_type": "stream",
     "text": [
      "值為-0.7741685699586098\n"
     ]
    }
   ],
   "source": [
    "#作業\n",
    "'''\n",
    "巢狀選擇\n",
    "如果x不是負數，則傳回值 x ** (1/y)\n",
    "如果x是負數且為偶數，則傳回值\"虛數\"\n",
    "如果x是負數且為奇數，則傳回值 -(-x) ** (1/y)  \n",
    "'''\n",
    "\n",
    "x = int(input(\"請輸入x值:\"))\n",
    "y = int(input(\"請輸入y值:\"))\n",
    "\n",
    "if x >= 0 :\n",
    "    print(f\"值為{x ** (1/y)}\")\n",
    "else :\n",
    "    if x % 2 :\n",
    "        print(\"虛數\")\n",
    "    else :\n",
    "        print(f\"值為{-(-x) ** (1/y)}\")\n"
   ]
  }
 ],
 "metadata": {
  "kernelspec": {
   "display_name": "Python 3",
   "language": "python",
   "name": "python3"
  },
  "language_info": {
   "codemirror_mode": {
    "name": "ipython",
    "version": 3
   },
   "file_extension": ".py",
   "mimetype": "text/x-python",
   "name": "python",
   "nbconvert_exporter": "python",
   "pygments_lexer": "ipython3",
   "version": "3.10.8"
  },
  "orig_nbformat": 4,
  "vscode": {
   "interpreter": {
    "hash": "2cecb92da02c8b98f4101d22276476b1c28eb527ceb2bbde7375dd542609dce3"
   }
  }
 },
 "nbformat": 4,
 "nbformat_minor": 2
}
